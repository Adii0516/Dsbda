{
 "cells": [
  {
   "cell_type": "markdown",
   "id": "a365e8e1-a1af-4dd6-a8dd-99eb56a5b639",
   "metadata": {},
   "source": [
    "# Practical No. 07\n",
    "by Kartik Deshpande\n",
    "\n",
    "Text Analytics\n",
    "1. Extract Sample document and apply following document preprocessing methods:\n",
    "Tokenization, POS Tagging, stop words removal, Stemming and Lemmatization.\n",
    "2. Create representation of document by calculating Term Frequency and Inverse Document\n",
    "Frequency."
   ]
  },
  {
   "cell_type": "code",
   "execution_count": 31,
   "id": "3bb90d27-2ce5-4c11-8c65-ecf937b7b0b7",
   "metadata": {},
   "outputs": [
    {
     "name": "stderr",
     "output_type": "stream",
     "text": [
      "[nltk_data] Downloading package punkt to /home/kartik/nltk_data...\n",
      "[nltk_data]   Package punkt is already up-to-date!\n",
      "[nltk_data] Downloading package stopwords to /home/kartik/nltk_data...\n",
      "[nltk_data]   Package stopwords is already up-to-date!\n",
      "[nltk_data] Downloading package wordnet to /home/kartik/nltk_data...\n",
      "[nltk_data]   Package wordnet is already up-to-date!\n",
      "[nltk_data] Downloading package averaged_perceptron_tagger to\n",
      "[nltk_data]     /home/kartik/nltk_data...\n",
      "[nltk_data]   Package averaged_perceptron_tagger is already up-to-\n",
      "[nltk_data]       date!\n",
      "[nltk_data] Downloading package omw-1.4 to /home/kartik/nltk_data...\n",
      "[nltk_data]   Package omw-1.4 is already up-to-date!\n"
     ]
    },
    {
     "data": {
      "text/plain": [
       "True"
      ]
     },
     "execution_count": 31,
     "metadata": {},
     "output_type": "execute_result"
    }
   ],
   "source": [
    "import nltk\n",
    "import re\n",
    "nltk.download('punkt')\n",
    "nltk.download('stopwords')\n",
    "nltk.download('wordnet')\n",
    "nltk.download('averaged_perceptron_tagger')\n",
    "nltk.download('omw-1.4')"
   ]
  },
  {
   "cell_type": "code",
   "execution_count": 32,
   "id": "5187c808-c106-43ea-8355-cee222252188",
   "metadata": {},
   "outputs": [],
   "source": [
    "text = \"Tokenization is the first step in text analytics.\""
   ]
  },
  {
   "cell_type": "code",
   "execution_count": 33,
   "id": "d16dd60f-188d-4141-b148-8cd923897112",
   "metadata": {},
   "outputs": [
    {
     "name": "stdout",
     "output_type": "stream",
     "text": [
      "['Tokenization is the first step in text analytics.']\n"
     ]
    }
   ],
   "source": [
    "from nltk.tokenize import sent_tokenize\n",
    "tokenized_text = sent_tokenize(text)\n",
    "print(tokenized_text)"
   ]
  },
  {
   "cell_type": "code",
   "execution_count": 34,
   "id": "376e70b9-8a3c-4a2f-900e-34991bdefcb6",
   "metadata": {},
   "outputs": [
    {
     "name": "stdout",
     "output_type": "stream",
     "text": [
      "['Tokenization', 'is', 'the', 'first', 'step', 'in', 'text', 'analytics', '.']\n"
     ]
    }
   ],
   "source": [
    "from nltk.tokenize import word_tokenize\n",
    "tokenized_word = word_tokenize(text)\n",
    "print(tokenized_word)"
   ]
  },
  {
   "cell_type": "code",
   "execution_count": 35,
   "id": "d51f1298-e0d4-4d68-a6ac-43e7b67a2b6b",
   "metadata": {},
   "outputs": [
    {
     "name": "stdout",
     "output_type": "stream",
     "text": [
      "{\"haven't\", 'those', 'hers', \"that'll\", 'were', 'won', \"don't\", 'you', 'did', 'shan', 'myself', 'as', 'over', \"should've\", 'his', \"wouldn't\", 'of', 'hadn', 'then', 'no', 'has', 'which', 'was', 'does', 'weren', 'both', \"you've\", 'yourself', 'we', \"needn't\", 're', 'when', 'some', 'again', \"won't\", 'on', \"hasn't\", 'itself', \"didn't\", \"she's\", 'up', 'a', \"hadn't\", 'against', 'during', \"mightn't\", 'shouldn', \"you'll\", 'why', 't', 'who', 'such', 'mustn', 'being', 'through', 'can', 'from', 'too', 'and', 've', \"shan't\", 'mightn', 'wouldn', 'this', 'each', 'whom', \"shouldn't\", 'the', 'should', 'now', 'its', 'do', 'ain', 'he', 'until', 'further', 'will', 'these', 'into', 'what', 'it', 'about', 'have', 'is', 'same', 'needn', 'how', 'your', \"wasn't\", \"aren't\", 'doesn', 'yours', 'once', 'doing', 'while', 'himself', 'ourselves', 'if', 'all', 'hasn', 'above', 'before', 'most', 'o', 'any', 'just', 'are', 'nor', 'ma', 'between', 'in', 'didn', 'had', 'other', 'y', 'to', 'been', 'they', 'after', 'be', 'don', \"weren't\", \"isn't\", 'down', 'our', 'under', 'my', 'isn', 'll', 'herself', \"doesn't\", 'me', 'at', 'by', \"you'd\", 'couldn', 'where', 'haven', 'but', 'them', 'that', 'theirs', 'having', 'i', 'below', 'd', 'not', \"it's\", \"mustn't\", 'yourselves', 'am', 'wasn', 's', 'ours', 'she', 'only', 'him', 'themselves', 'few', \"couldn't\", 'very', 'for', \"you're\", 'so', 'her', 'there', 'here', 'own', 'or', 'm', 'because', 'out', 'off', 'aren', 'more', 'with', 'their', 'than', 'an'}\n"
     ]
    }
   ],
   "source": [
    "from nltk.corpus import stopwords\n",
    "stop_words = set(stopwords.words(\"english\"))\n",
    "print(stop_words)"
   ]
  },
  {
   "cell_type": "code",
   "execution_count": 36,
   "id": "3a351b67-f503-425d-8c07-0ce4929e335f",
   "metadata": {},
   "outputs": [
    {
     "name": "stdout",
     "output_type": "stream",
     "text": [
      "Tokenized Sentence : ['howtoremovestopwordswithnltklibraryinpython']\n",
      "Filtered Sentence : ['howtoremovestopwordswithnltklibraryinpython']\n"
     ]
    }
   ],
   "source": [
    "text = \"How to remove stop words with NLTK library in Python?\"\n",
    "text = re.sub('[^a-zA-Z]','',text)\n",
    "tokens = word_tokenize(text.lower())\n",
    "filtered_text = []\n",
    "\n",
    "for w in tokens:\n",
    "    if w not in stop_words:\n",
    "        filtered_text.append(w)\n",
    "\n",
    "print(\"Tokenized Sentence :\",tokens)\n",
    "print(\"Filtered Sentence :\",filtered_text)"
   ]
  },
  {
   "cell_type": "code",
   "execution_count": 37,
   "id": "9dcaf8c3-8c20-42d1-ab59-eeb7146acbf2",
   "metadata": {},
   "outputs": [
    {
     "name": "stdout",
     "output_type": "stream",
     "text": [
      "wait\n"
     ]
    }
   ],
   "source": [
    "from nltk.stem import PorterStemmer\n",
    "e_words = [\"wait\", \"waiting\", \"waited\", \"waits\"]\n",
    "ps = PorterStemmer()\n",
    "for w in e_words:\n",
    "    rootWord = ps.stem(w)\n",
    "print(rootWord)"
   ]
  },
  {
   "cell_type": "code",
   "execution_count": 38,
   "id": "b4ed245f-b3e2-4ad1-ab30-7f23adaea59e",
   "metadata": {},
   "outputs": [
    {
     "name": "stdout",
     "output_type": "stream",
     "text": [
      "Lemma for studies is study\n",
      "Lemma for studying is studying\n",
      "Lemma for cries is cry\n",
      "Lemma for cry is cry\n"
     ]
    }
   ],
   "source": [
    "from nltk.stem import WordNetLemmatizer\n",
    "wordnet_lemmatizer = WordNetLemmatizer()\n",
    "text = \"studies studying cries cry\"\n",
    "tokenization = nltk.word_tokenize(text)\n",
    "for w in tokenization:\n",
    "    print(\"Lemma for {} is {}\".format(w, wordnet_lemmatizer.lemmatize(w)))"
   ]
  },
  {
   "cell_type": "code",
   "execution_count": 39,
   "id": "8fc242b9-daeb-4b93-80c0-fd86c08fd4c7",
   "metadata": {},
   "outputs": [
    {
     "name": "stdout",
     "output_type": "stream",
     "text": [
      "[('The', 'DT')]\n",
      "[('pink', 'NN')]\n",
      "[('sweater', 'NN')]\n",
      "[('fit', 'NN')]\n",
      "[('her', 'PRP$')]\n",
      "[('perfectly', 'RB')]\n"
     ]
    }
   ],
   "source": [
    "from nltk.tokenize import word_tokenize\n",
    "data = \"The pink sweater fit her perfectly\"\n",
    "words = word_tokenize(data)\n",
    "for word in words:\n",
    "    print(nltk.pos_tag([word]))"
   ]
  },
  {
   "cell_type": "code",
   "execution_count": 40,
   "id": "2b90e82e-1bbd-4b38-bedb-8a7c7c9fc13f",
   "metadata": {},
   "outputs": [
    {
     "name": "stdout",
     "output_type": "stream",
     "text": [
      "Word indices: {'jupiter': 3, 'is': 2, 'the': 8, 'largest': 4, 'planet': 6, 'mars': 5, 'fourth': 0, 'from': 1, 'sun': 7}\n",
      "TF-IDF Values:   (0, 6)\t0.3793034928087496\n",
      "  (0, 4)\t0.5330978245262535\n",
      "  (0, 8)\t0.3793034928087496\n",
      "  (0, 2)\t0.3793034928087496\n",
      "  (0, 3)\t0.5330978245262535\n",
      "  (1, 7)\t0.37695708675831013\n",
      "  (1, 1)\t0.37695708675831013\n",
      "  (1, 0)\t0.37695708675831013\n",
      "  (1, 5)\t0.37695708675831013\n",
      "  (1, 6)\t0.2682080718928097\n",
      "  (1, 8)\t0.5364161437856194\n",
      "  (1, 2)\t0.2682080718928097\n"
     ]
    }
   ],
   "source": [
    "import pandas as pd\n",
    "from sklearn.feature_extraction.text import TfidfVectorizer\n",
    "\n",
    "d0 = 'Jupiter is the largest Planet'\n",
    "d1 = 'Mars is the fourth planet from the sun'\n",
    "string = [d0,d1]\n",
    "tfidf = TfidfVectorizer()\n",
    "result = tfidf.fit_transform(string)\n",
    "print('Word indices:', tfidf.vocabulary_)\n",
    "print('TF-IDF Values:', result)"
   ]
  }
 ],
 "metadata": {
  "kernelspec": {
   "display_name": "Python 3 (ipykernel)",
   "language": "python",
   "name": "python3"
  },
  "language_info": {
   "codemirror_mode": {
    "name": "ipython",
    "version": 3
   },
   "file_extension": ".py",
   "mimetype": "text/x-python",
   "name": "python",
   "nbconvert_exporter": "python",
   "pygments_lexer": "ipython3",
   "version": "3.11.5"
  }
 },
 "nbformat": 4,
 "nbformat_minor": 5
}
